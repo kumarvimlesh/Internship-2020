{
  "cells": [
    {
      "metadata": {
        "trusted": true
      },
      "cell_type": "code",
      "source": "import torch",
      "execution_count": 23,
      "outputs": []
    },
    {
      "metadata": {
        "trusted": true
      },
      "cell_type": "code",
      "source": "x = torch.ones(3,3,requires_grad=True)\nprint(x)",
      "execution_count": 24,
      "outputs": [
        {
          "output_type": "stream",
          "text": "tensor([[1., 1., 1.],\n        [1., 1., 1.],\n        [1., 1., 1.]], requires_grad=True)\n",
          "name": "stdout"
        }
      ]
    },
    {
      "metadata": {
        "trusted": true
      },
      "cell_type": "code",
      "source": "y = x+2\nprint(y)",
      "execution_count": 25,
      "outputs": [
        {
          "output_type": "stream",
          "text": "tensor([[3., 3., 3.],\n        [3., 3., 3.],\n        [3., 3., 3.]], grad_fn=<AddBackward0>)\n",
          "name": "stdout"
        }
      ]
    },
    {
      "metadata": {
        "trusted": true
      },
      "cell_type": "code",
      "source": "print(y.grad_fn)",
      "execution_count": 26,
      "outputs": [
        {
          "output_type": "stream",
          "text": "<AddBackward0 object at 0x7f975e1db390>\n",
          "name": "stdout"
        }
      ]
    },
    {
      "metadata": {
        "trusted": true
      },
      "cell_type": "code",
      "source": "z = y*y+1\nprint(z)\nout = z.mean()\nprint(out)",
      "execution_count": 27,
      "outputs": [
        {
          "output_type": "stream",
          "text": "tensor([[10., 10., 10.],\n        [10., 10., 10.],\n        [10., 10., 10.]], grad_fn=<AddBackward0>)\ntensor(10., grad_fn=<MeanBackward0>)\n",
          "name": "stdout"
        }
      ]
    },
    {
      "metadata": {
        "trusted": true
      },
      "cell_type": "code",
      "source": "a = torch.rand(3,3)\nprint(a)\nprint(a.requires_grad)",
      "execution_count": 28,
      "outputs": [
        {
          "output_type": "stream",
          "text": "tensor([[0.3230, 0.3773, 0.6468],\n        [0.4741, 0.2714, 0.0563],\n        [0.3615, 0.9493, 0.2133]])\nFalse\n",
          "name": "stdout"
        }
      ]
    },
    {
      "metadata": {
        "trusted": true
      },
      "cell_type": "code",
      "source": "a.requires_grad_(True)\nprint(a.requires_grad)",
      "execution_count": 29,
      "outputs": [
        {
          "output_type": "stream",
          "text": "True\n",
          "name": "stdout"
        }
      ]
    },
    {
      "metadata": {
        "trusted": true
      },
      "cell_type": "code",
      "source": "b=a*a\nprint(b)\nprint(b.grad_fn)",
      "execution_count": 30,
      "outputs": [
        {
          "output_type": "stream",
          "text": "tensor([[0.1043, 0.1423, 0.4184],\n        [0.2248, 0.0737, 0.0032],\n        [0.1307, 0.9012, 0.0455]], grad_fn=<MulBackward0>)\n<MulBackward0 object at 0x7f975e1db748>\n",
          "name": "stdout"
        }
      ]
    },
    {
      "metadata": {
        "trusted": true
      },
      "cell_type": "code",
      "source": "out.backward()",
      "execution_count": 31,
      "outputs": []
    },
    {
      "metadata": {
        "trusted": true
      },
      "cell_type": "code",
      "source": "print(x.grad)",
      "execution_count": 32,
      "outputs": [
        {
          "output_type": "stream",
          "text": "tensor([[0.6667, 0.6667, 0.6667],\n        [0.6667, 0.6667, 0.6667],\n        [0.6667, 0.6667, 0.6667]])\n",
          "name": "stdout"
        }
      ]
    },
    {
      "metadata": {
        "trusted": true
      },
      "cell_type": "code",
      "source": "x1 = torch.randn(3, requires_grad=True)\ny1 = x1 * 2\nwhile y1.data.norm() < 1000:\n    y1 = y1 * 2\nprint(y1)",
      "execution_count": 33,
      "outputs": [
        {
          "output_type": "stream",
          "text": "tensor([  581.6132,   237.2218, -1473.5990], grad_fn=<MulBackward0>)\n",
          "name": "stdout"
        }
      ]
    },
    {
      "metadata": {
        "trusted": true
      },
      "cell_type": "code",
      "source": "",
      "execution_count": null,
      "outputs": []
    }
  ],
  "metadata": {
    "kernelspec": {
      "name": "python36",
      "display_name": "Python 3.6",
      "language": "python"
    },
    "language_info": {
      "mimetype": "text/x-python",
      "nbconvert_exporter": "python",
      "name": "python",
      "pygments_lexer": "ipython3",
      "version": "3.6.6",
      "file_extension": ".py",
      "codemirror_mode": {
        "version": 3,
        "name": "ipython"
      }
    }
  },
  "nbformat": 4,
  "nbformat_minor": 2
}