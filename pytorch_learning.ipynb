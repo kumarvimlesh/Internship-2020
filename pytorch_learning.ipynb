{
  "cells": [
    {
      "metadata": {
        "trusted": true
      },
      "cell_type": "code",
      "source": "import torch\nimport numpy as np",
      "execution_count": 11,
      "outputs": []
    },
    {
      "metadata": {
        "trusted": true
      },
      "cell_type": "code",
      "source": "t = torch.ones((3,3))\nt",
      "execution_count": 8,
      "outputs": [
        {
          "output_type": "execute_result",
          "execution_count": 8,
          "data": {
            "text/plain": "tensor([[1., 1., 1.],\n        [1., 1., 1.],\n        [1., 1., 1.]])"
          },
          "metadata": {}
        }
      ]
    },
    {
      "metadata": {
        "trusted": true
      },
      "cell_type": "code",
      "source": "mat = torch.randn((5,5))\nprint(mat)",
      "execution_count": 10,
      "outputs": [
        {
          "output_type": "stream",
          "text": "tensor([[ 1.1437,  0.9409,  0.9248,  0.5202,  0.2434],\n        [-0.6436,  1.2776, -1.0562,  1.0390, -0.8900],\n        [-0.8379,  0.9047, -0.2579,  0.7858, -0.1232],\n        [ 0.4156, -0.2878, -0.1948, -2.5244, -0.3555],\n        [-2.0021, -0.0298, -0.4851, -1.2413, -0.8475]])\n",
          "name": "stdout"
        }
      ]
    },
    {
      "metadata": {
        "trusted": true
      },
      "cell_type": "code",
      "source": "print(mat.max())\nprint(mat.argmax())",
      "execution_count": 14,
      "outputs": [
        {
          "output_type": "stream",
          "text": "tensor(1.2776)\ntensor(6)\n",
          "name": "stdout"
        }
      ]
    },
    {
      "metadata": {
        "trusted": true
      },
      "cell_type": "code",
      "source": "arr = torch.rand(9)\nprint(arr)\nmat2 = arr.reshape((3,3))\nprint(mat2)",
      "execution_count": 3,
      "outputs": [
        {
          "output_type": "stream",
          "text": "tensor([0.6090, 0.1813, 0.8748, 0.1882, 0.8983, 0.7058, 0.0144, 0.8609, 0.0687])\ntensor([[0.6090, 0.1813, 0.8748],\n        [0.1882, 0.8983, 0.7058],\n        [0.0144, 0.8609, 0.0687]])\n",
          "name": "stdout"
        }
      ]
    },
    {
      "metadata": {
        "trusted": true
      },
      "cell_type": "code",
      "source": "x = torch.empty(4,4)\nprint(x)",
      "execution_count": 5,
      "outputs": [
        {
          "output_type": "stream",
          "text": "tensor([[9.7688e+00, 4.5810e-41, 9.7688e+00, 4.5810e-41],\n        [0.0000e+00, 0.0000e+00, 0.0000e+00, 0.0000e+00],\n        [0.0000e+00, 0.0000e+00, 0.0000e+00, 0.0000e+00],\n        [0.0000e+00, 0.0000e+00, 0.0000e+00, 0.0000e+00]])\n",
          "name": "stdout"
        }
      ]
    },
    {
      "metadata": {
        "trusted": true
      },
      "cell_type": "code",
      "source": "a = torch.rand(3,3)\nb = torch.rand(3,3)\nprint(a)\nprint(b)\nprint(torch.add(a,b))",
      "execution_count": 8,
      "outputs": [
        {
          "output_type": "stream",
          "text": "tensor([[0.6308, 0.8270, 0.1518],\n        [0.5017, 0.6838, 0.0835],\n        [0.3372, 0.9136, 0.2142]])\ntensor([[0.2316, 0.5421, 0.1324],\n        [0.7455, 0.8268, 0.4917],\n        [0.7299, 0.6139, 0.7893]])\ntensor([[0.8623, 1.3691, 0.2842],\n        [1.2472, 1.5106, 0.5752],\n        [1.0671, 1.5275, 1.0034]])\n",
          "name": "stdout"
        }
      ]
    },
    {
      "metadata": {
        "trusted": true
      },
      "cell_type": "code",
      "source": "c = a.numpy()\nprint(c)",
      "execution_count": 10,
      "outputs": [
        {
          "output_type": "stream",
          "text": "[[0.6307731  0.8269601  0.15178454]\n [0.50172424 0.68378633 0.0835402 ]\n [0.3371696  0.91360873 0.21417981]]\n",
          "name": "stdout"
        }
      ]
    },
    {
      "metadata": {
        "trusted": true
      },
      "cell_type": "code",
      "source": "a1 = np.ones((4,4))\nprint(a1)\na2 = torch.from_numpy(a1) \nprint(a2)",
      "execution_count": 14,
      "outputs": [
        {
          "output_type": "stream",
          "text": "[[1. 1. 1. 1.]\n [1. 1. 1. 1.]\n [1. 1. 1. 1.]\n [1. 1. 1. 1.]]\ntensor([[1., 1., 1., 1.],\n        [1., 1., 1., 1.],\n        [1., 1., 1., 1.],\n        [1., 1., 1., 1.]], dtype=torch.float64)\n",
          "name": "stdout"
        }
      ]
    },
    {
      "metadata": {
        "trusted": true
      },
      "cell_type": "code",
      "source": "",
      "execution_count": null,
      "outputs": []
    }
  ],
  "metadata": {
    "kernelspec": {
      "name": "python36",
      "display_name": "Python 3.6",
      "language": "python"
    },
    "language_info": {
      "mimetype": "text/x-python",
      "nbconvert_exporter": "python",
      "name": "python",
      "pygments_lexer": "ipython3",
      "version": "3.6.6",
      "file_extension": ".py",
      "codemirror_mode": {
        "version": 3,
        "name": "ipython"
      }
    }
  },
  "nbformat": 4,
  "nbformat_minor": 2
}